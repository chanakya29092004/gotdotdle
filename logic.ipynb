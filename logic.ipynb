{
 "cells": [
  {
   "cell_type": "code",
   "execution_count": 1,
   "metadata": {},
   "outputs": [
    {
     "name": "stdout",
     "output_type": "stream",
     "text": [
      "Name            Podrick Payne\n",
      "Gender                   Male\n",
      "House                     NaN\n",
      "Debut Season                2\n",
      "Death Season                -\n",
      "Role/Post              Squire\n",
      "Place                Westeros\n",
      "Name: 58, dtype: object\n"
     ]
    }
   ],
   "source": [
    "import pandas as pd\n",
    "import random\n",
    "\n",
    "data = pd.read_csv('gotdle.csv')\n",
    "df = pd.DataFrame(data)\n",
    "random_character = df.sample(n=1).iloc[0]\n",
    "\n",
    "print(random_character)"
   ]
  },
  {
   "cell_type": "code",
   "execution_count": 3,
   "metadata": {},
   "outputs": [
    {
     "name": "stdout",
     "output_type": "stream",
     "text": [
      "Welcome to the Game of Thrones Dead or Alive Quiz!\n",
      "Robb Stark\n",
      "Gender is correct!\n",
      "House is incorrect!\n",
      "Debut Season is close!\n",
      "Role/Post is incorrect!\n",
      "Death Season is unknown or unavailable.\n",
      "Place is incorrect!\n",
      "Character not found! Please try again.\n",
      "Podrick Payne\n",
      "Correct! You win!\n",
      "Character not found! Please try again.\n",
      "Character not found! Please try again.\n",
      "Character not found! Please try again.\n",
      "Character not found! Please try again.\n",
      "Character not found! Please try again.\n",
      "Character not found! Please try again.\n",
      "Character not found! Please try again.\n",
      "Character not found! Please try again.\n",
      "Character not found! Please try again.\n"
     ]
    },
    {
     "ename": "",
     "evalue": "",
     "output_type": "error",
     "traceback": [
      "\u001b[1;31mThe Kernel crashed while executing code in the current cell or a previous cell. \n",
      "\u001b[1;31mPlease review the code in the cell(s) to identify a possible cause of the failure. \n",
      "\u001b[1;31mClick <a href='https://aka.ms/vscodeJupyterKernelCrash'>here</a> for more info. \n",
      "\u001b[1;31mView Jupyter <a href='command:jupyter.viewOutput'>log</a> for further details."
     ]
    }
   ],
   "source": [
    "def start():\n",
    "    print('Welcome to the Game of Thrones Dead or Alive Quiz!')\n",
    "    while True:\n",
    "        character = input('Enter the name of a character: ').strip()\n",
    "        if character in df['Name'].values:\n",
    "            print(character)\n",
    "            guess(character, random_character)\n",
    "        else:\n",
    "            print(\"Character not found! Please try again.\")\n",
    "\n",
    "def guess(character, random_character):\n",
    "    if character == random_character['Name']:\n",
    "        print('Correct! You win!')\n",
    "        exit()\n",
    "    else:\n",
    "        check(character, random_character)\n",
    "\n",
    "def check(character, random_character):\n",
    "    character_row = df[df['Name'] == character].iloc[0]\n",
    "    if character_row['Gender'] == random_character['Gender']:\n",
    "        print('Gender is correct!')\n",
    "    else:\n",
    "        print('Gender is incorrect!')\n",
    "    if character_row['House'] == random_character['House']:\n",
    "        print('House is correct!')\n",
    "    else:\n",
    "        print('House is incorrect!')\n",
    "    if character_row['Debut Season'] == random_character['Debut Season']:\n",
    "        print('Debut Season is correct!')\n",
    "    else:\n",
    "        similar(character_row, random_character, 'Debut Season')\n",
    "    if character_row['Role/Post'] == random_character['Role/Post']:\n",
    "        print('Role/Post is correct!')\n",
    "    else:\n",
    "        print('Role/Post is incorrect!')\n",
    "    if character_row['Death Season'] == random_character['Death Season']:\n",
    "        print('Death Season is correct!')\n",
    "    else:\n",
    "        similar(character_row, random_character, 'Death Season')\n",
    "    if character_row['Place'] == random_character['Place']:\n",
    "        print('Place is correct!')\n",
    "    else:\n",
    "        print('Place is incorrect!')\n",
    "        \n",
    "def similar(character, random_character, val):\n",
    "    char_val = character[val]\n",
    "    random_val = random_character[val]\n",
    "\n",
    "    if char_val != '-' and random_val != '-':\n",
    "        try:\n",
    "            if abs(int(char_val) - int(random_val)) <= 1:\n",
    "                print(f'{val} is close!')\n",
    "        except ValueError:\n",
    "            print(f'{val} value is not a valid number for comparison.')\n",
    "    else:\n",
    "        print(f'{val} is unknown or unavailable.')\n",
    "\n",
    "start()"
   ]
  }
 ],
 "metadata": {
  "kernelspec": {
   "display_name": ".venv",
   "language": "python",
   "name": "python3"
  },
  "language_info": {
   "codemirror_mode": {
    "name": "ipython",
    "version": 3
   },
   "file_extension": ".py",
   "mimetype": "text/x-python",
   "name": "python",
   "nbconvert_exporter": "python",
   "pygments_lexer": "ipython3",
   "version": "3.12.4"
  }
 },
 "nbformat": 4,
 "nbformat_minor": 2
}
